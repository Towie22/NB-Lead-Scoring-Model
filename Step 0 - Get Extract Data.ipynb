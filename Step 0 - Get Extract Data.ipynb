{
 "cells": [
  {
   "cell_type": "markdown",
   "id": "33295a95",
   "metadata": {},
   "source": [
    "# 1. Variable andf Configuration Set up"
   ]
  },
  {
   "cell_type": "code",
   "execution_count": null,
   "id": "d10bae1e",
   "metadata": {},
   "outputs": [],
   "source": [
    "import sys\n",
    "!{sys.executable} -m pip install pandas==1.1.5\n",
    "!{sys.executable} -m pip install numpy==1.19.1\n",
    "!{sys.executable} -m pip install scikit-learn==0.22.2"
   ]
  },
  {
   "cell_type": "code",
   "execution_count": null,
   "id": "fbaa3a27",
   "metadata": {},
   "outputs": [],
   "source": [
    "import joblib\n",
    "import boto3\n",
    "import re\n",
    "import os\n",
    "from config import BUCKET"
   ]
  },
  {
   "cell_type": "markdown",
   "id": "12976d9d",
   "metadata": {},
   "source": [
    "# 2. Import buckets and data"
   ]
  },
  {
   "cell_type": "code",
   "execution_count": null,
   "id": "d6519214",
   "metadata": {},
   "outputs": [],
   "source": [
    "path = \"./Data\"\n",
    "\n",
    "df_raw = pd.read_csv('{}/nb_purchase_propensity_model_raw_data.csv000'.format(path))\n",
    "df_policy = pd.read_csv('{}/nb_purchase_propensity_model_raw_data_compliment_view1.csv000'.format(path))\n",
    "df_quote = pd.read_csv('{}/nb_purchase_propensity_model_raw_data_compliment_view2.csv000'.format(path))\n",
    "\n",
    "def nric_check(row):\n",
    "        #     print(type(row['nric']))\n",
    "        if len(str(row['nric'])) == 9 and str(row['nric'])[:1] in ['S', 'T']:\n",
    "            return 'SGPR'\n",
    "        elif len(str(row['nric'])) == 9 and str(row['nric'])[:1] in ['F', 'G']:\n",
    "            return 'FOREIGNER'\n",
    "        else:\n",
    "            return 'UNKNOWN'"
   ]
  },
  {
   "cell_type": "code",
   "execution_count": null,
   "id": "adb7456d",
   "metadata": {},
   "outputs": [],
   "source": []
  },
  {
   "cell_type": "markdown",
   "id": "34b83705",
   "metadata": {},
   "source": [
    "# Combining csv files"
   ]
  },
  {
   "cell_type": "code",
   "execution_count": null,
   "id": "b414dc2f",
   "metadata": {},
   "outputs": [],
   "source": [
    "df_raw_quote = df_raw.merge(df_quote, left_on='quote_origin_system_number', right_on='current_quote_origin_system_number', how='left', indicator=True)\n",
    "df_raw_quote = df_raw_quote.rename(columns={\"_merge\": \"matched_quote\"})\n",
    "df_combined = df_raw_quote.merge(df_policy, left_on='quote_origin_system_number', right_on='current_quote_origin_system_number', how='left', indicator=True)\n",
    "df_combined = df_combined.rename(columns={\"_merge\": \"matched_policy\"})\n",
    "df_combined = df_combined.drop(columns=['product_type_y', 'current_quote_origin_system_number_x', 'current_quote_origin_system_number_y'])\n",
    "df_combined = df_combined.rename(columns={\"applicant_nric_x\": \"nric\", \"applicant_nric_y\": \"nric_quote\", \"individual_id_number\": \"nric_policy\", \"product_type_x\": \"product_type\",})\n",
    "df_combined['nric_type'] = df_combined.apply(nric_check, axis=1)"
   ]
  },
  {
   "cell_type": "code",
   "execution_count": null,
   "id": "04bf4846",
   "metadata": {},
   "outputs": [],
   "source": [
    "df_combined['applicant_dob'] = pd.to_datetime(df_combined['applicant_dob'], errors = 'coerce')\n",
    "df_combined['quote_issue_date'] = df_combined['quote_issue_date'].values.astype('datetime64[ns]')\n",
    "df_combined['quote_latest_update_date'] = df_combined['quote_latest_update_date'].values.astype('datetime64[ns]')\n",
    "df_combined['policy_issue_date'] = pd.to_datetime(df_combined['policy_issue_date'], errors = 'coerce')\n",
    "df_combined['first_quote_created_before_date'] = pd.to_datetime(df_combined['first_quote_created_before_date'], errors = 'coerce')\n",
    "df_combined['latest_quote_created_before_date'] = pd.to_datetime(df_combined['latest_quote_created_before_date'], errors = 'coerce')\n",
    "df_combined['scv_first_policy_issue_date'] = pd.to_datetime(df_combined['scv_first_policy_issue_date'], errors = 'coerce')\n",
    "df_combined['scv_latest_policy_issue_date'] = pd.to_datetime(df_combined['scv_latest_policy_issue_date'], errors = 'coerce')\n",
    "df_combined['first_interaction_date'] = pd.to_datetime(df_combined['first_interaction_date'], errors = 'coerce')\n",
    "df_combined['last_interaction_date'] = pd.to_datetime(df_combined['last_interaction_date'], errors = 'coerce')"
   ]
  },
  {
   "cell_type": "markdown",
   "id": "4ffcfcb1",
   "metadata": {},
   "source": [
    "# Save dataset "
   ]
  },
  {
   "cell_type": "code",
   "execution_count": null,
   "id": "5e397cb9",
   "metadata": {},
   "outputs": [],
   "source": [
    "df_combined.to_csv(\"{}/df_combined.csv\".format(path))"
   ]
  },
  {
   "cell_type": "code",
   "execution_count": null,
   "id": "24e2b791",
   "metadata": {},
   "outputs": [],
   "source": []
  }
 ],
 "metadata": {
  "kernelspec": {
   "display_name": "conda_python3",
   "language": "python",
   "name": "conda_python3"
  },
  "language_info": {
   "codemirror_mode": {
    "name": "ipython",
    "version": 3
   },
   "file_extension": ".py",
   "mimetype": "text/x-python",
   "name": "python",
   "nbconvert_exporter": "python",
   "pygments_lexer": "ipython3",
   "version": "3.6.13"
  }
 },
 "nbformat": 4,
 "nbformat_minor": 5
}
