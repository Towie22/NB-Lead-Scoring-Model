{
 "cells": [
  {
   "cell_type": "code",
   "execution_count": null,
   "id": "842cbb3d",
   "metadata": {},
   "outputs": [],
   "source": [
    "import sys\n",
    "!{sys.executable} -m pip install xgboost\n",
    "!{sys.executable} -m pip install ipython-autotime\n",
    "!{sys.executable} -m pip install pandas-profiling"
   ]
  },
  {
   "cell_type": "code",
   "execution_count": null,
   "id": "72cdfb6b",
   "metadata": {},
   "outputs": [],
   "source": [
    "from datetime import datetime\n",
    "from IPython.display import display\n",
    "import warnings\n",
    "warnings.filterwarnings(\"ignore\")\n",
    "\n",
    "import pandas as pd\n",
    "import numpy as np\n",
    "import re\n",
    "import joblib\n",
    "\n",
    "import warnings\n",
    "from pandas.core.common import SettingWithCopyWarning\n",
    "\n",
    "warnings.simplefilter(action = 'ignore', category = SettingWithCopyWarning)\n",
    "\n",
    "from sklearn.model_selection import train_test_split, LeaveOneOut\n",
    "from sklearn.metrics import mean_absolute_error\n",
    "import os\n",
    "\n",
    "import seaborn as sns\n",
    "import matplotlib.pyplot as plt\n",
    "from matplotlib.colors import ListedColormap\n",
    "plt.style.use('classic')\n",
    "%matplotlib inline\n",
    "\n",
    "from pandas_profiling import ProfileReport\n",
    "\n",
    "from config import *\n",
    "from utils import *"
   ]
  },
  {
   "cell_type": "markdown",
   "id": "2ba54293",
   "metadata": {},
   "source": [
    "## Load Data"
   ]
  },
  {
   "cell_type": "code",
   "execution_count": null,
   "id": "46b05fb8",
   "metadata": {},
   "outputs": [],
   "source": [
    "path = \"./Data\"\n",
    "df_combined = pd.read_csv(\"{}/df_combined.csv\".format(path))"
   ]
  },
  {
   "cell_type": "markdown",
   "id": "13713687",
   "metadata": {},
   "source": [
    "# Data Transformation"
   ]
  },
  {
   "cell_type": "markdown",
   "id": "8f53eadd",
   "metadata": {},
   "source": [
    "### Transform date value"
   ]
  },
  {
   "cell_type": "code",
   "execution_count": null,
   "id": "d4a7c5fe",
   "metadata": {},
   "outputs": [],
   "source": [
    "df_combined['applicant_dob']= pd.to_datetime(df_combined['applicant_dob'], errors = 'coerce')\n",
    "df_combined['age_at_quote'] = np.floor((df_combined['quote_issue_date'] - df_combined['applicant_dob'])/np.timedelta64(1, 'Y'))\n",
    "df_combined['update_timediff'] = np.floor((df_combined['quote_latest_update_date'] - df_combined['quote_issue_date'])/np.timedelta64(1, 'm'))\n",
    "df_combined['conversion_timediff'] = np.floor((df_combined['policy_issue_date'] - df_combined['quote_issue_date'])/np.timedelta64(1, 'D'))\n",
    "df_combined['since_first_quote'] = np.floor((df_combined['quote_issue_date'] - df_combined['first_quote_created_before_date'])/np.timedelta64(1, 'W'))\n",
    "df_combined['since_latest_quote'] = np.floor((df_combined['quote_issue_date'] - df_combined['latest_quote_created_before_date'])/np.timedelta64(1, 'W'))\n",
    "df_combined['since_first_policy'] = np.floor((df_combined['quote_issue_date'] - df_combined['scv_first_policy_issue_date'])/np.timedelta64(1, 'W'))\n",
    "df_combined['since_latest_policy'] = np.floor((df_combined['quote_issue_date'] - df_combined['scv_latest_policy_issue_date'])/np.timedelta64(1, 'W'))\n",
    "df_combined['since_first_interaction'] = np.floor((df_combined['first_interaction_date'] - df_combined['quote_issue_date'])/np.timedelta64(1, 'h'))\n",
    "df_combined['since_last_interaction'] = np.floor((df_combined['last_interaction_date'] - df_combined['quote_issue_date'])/np.timedelta64(1, 'h'))\n",
    "df_combined['update_flag'] = np.where(np.floor((df_combined['quote_latest_update_date'] - df_combined['quote_issue_date'])/np.timedelta64(1, 'm')) > 0, 1, 0)\n",
    "df_combined['multiple_interaction_flag'] = np.where(np.floor((df_combined['last_interaction_date'] - df_combined['first_interaction_date'])/np.timedelta64(1, 's')) > 0, 1, 0)\n"
   ]
  },
  {
   "cell_type": "markdown",
   "id": "95f15663",
   "metadata": {},
   "source": [
    "### Transform \"Call Counts\""
   ]
  },
  {
   "cell_type": "code",
   "execution_count": null,
   "id": "17b04b63",
   "metadata": {},
   "outputs": [],
   "source": [
    "df_combined = df_combined.rename(columns={'nb_call_attempt_count': 'total_call_attempt_count'})\n",
    "df_combined['nb_outbound_call_count'] = df_combined['nb_outbound_call_count'].fillna(0)\n",
    "df_combined['nb_outbound_no_pick_up_count'] = df_combined['nb_outbound_no_pick_up_count'].fillna(0)\n",
    "df_combined['nb_payment_failure_call_count'] = df_combined['nb_payment_failure_call_count'].fillna(0)\n",
    "df_combined['nb_payment_failure_no_pick_up_count'] = df_combined['nb_payment_failure_no_pick_up_count'].fillna(0)\n",
    "df_combined['customer_request_call_count'] = df_combined['customer_request_call_count'].fillna(0)\n",
    "df_combined['customer_request_no_pick_up_count'] = df_combined['customer_request_no_pick_up_count'].fillna(0)\n",
    "df_combined['total_call_attempt_count'] = df_combined['total_call_attempt_count'].fillna(0)\n",
    "df_combined['nb_call_count'] = (df_combined['nb_outbound_call_count'] + df_combined['nb_payment_failure_call_count']).fillna(0)\n",
    "df_combined['nb_no_pick_up_count'] = (df_combined['nb_outbound_no_pick_up_count'] + df_combined['nb_payment_failure_no_pick_up_count']).fillna(0)\n",
    "df_combined['nb_call_attempt_count'] = (df_combined['nb_call_count'] + df_combined['nb_no_pick_up_count']).fillna(0)\n",
    "df_combined['customer_request_call_attempt_count'] = (df_combined['customer_request_call_count'] + df_combined['customer_request_no_pick_up_count']).fillna(0)\n",
    "\n",
    "# removing unknown NRICs\n",
    "df_cleaned = df_combined[df_combined['nric_type'].astype(str) != 'UNKNOWN']"
   ]
  },
  {
   "cell_type": "markdown",
   "id": "cd533acb",
   "metadata": {},
   "source": [
    "## Mapping Values"
   ]
  },
  {
   "cell_type": "code",
   "execution_count": null,
   "id": "13300071",
   "metadata": {},
   "outputs": [],
   "source": [
    "# consolidating product types\n",
    "mapping_product = {'Heart Attack Insurance': 'Big 3 Critical Illness', \n",
    "                   'Term Life Plus': 'Life', 'Term Life Plus': 'Life', \n",
    "                   'DPI': 'Life', 'Cancer': 'Big 3 Critical Illness',\n",
    "                   'TermLife': 'Life', 'Heart Attack Insurance-Stroke Insurance': 'Big 3 Critical Illness', \n",
    "                   'Stroke Insurance': 'Big 3 Critical Illness', \n",
    "                   'Cancer-Heart Attack Insurance': 'Big 3 Critical Illness', \n",
    "                   'Cancer-Heart Attack Insurance-Stroke Insurance': 'Big 3 Critical Illness', \n",
    "                   'Essential Life': 'Life', \n",
    "                   'Cancer-Stroke Insurance': 'Big 3 Critical Illness', \n",
    "                   'Modular Maid - 6ME Homebased-Modular Maid - OutPatient': 'Maid', \n",
    "                   'Modular Maid - OutPatient': 'Maid', \n",
    "                   'Modular Maid - 6ME Clinics': 'Maid', 'Modular Maid - POLO': 'Maid', \n",
    "                   'Modular Maid - 6ME Homebased': 'Maid', \n",
    "                   'Modular Maid - 6ME Clinics-Modular Maid - OutPatient': 'Maid', \n",
    "                   'Modular Maid - 6ME Homebased-Modular Maid - POLO': 'Maid', \n",
    "                   'Modular Maid - 6ME Homebased-Modular Maid - OutPatient-Modular Maid - POLO': 'Maid', \n",
    "                   'Modular Maid - 6ME Clinics-Modular Maid - POLO': 'Maid', \n",
    "                   'Modular Maid - 6ME Clinics-Modular Maid - OutPatient-Modular Maid - POLO': 'Maid', \n",
    "                   'Modular Maid - 6ME Homebased-Modular Maid - OutPatient': 'Maid', \n",
    "                   'Modular Maid - OutPatient-Modular Maid - POLO': 'Maid'}\n",
    "df_cleaned['product_type'].replace(mapping_product, inplace=True)\n",
    "\n",
    "# consolidating genders\n",
    "mapping_gender = {'Male': 'M', 'm': 'M', 'male': 'M', 'Female': 'F', 'f': 'F', 'Femaile': 'F', 'u': 'U'}\n",
    "df_cleaned['applicant_gender'].replace(mapping_gender, inplace=True)\n",
    "df_cleaned['applicant_gender'] = df_cleaned['applicant_gender'].fillna('U')\n",
    "\n",
    "# consolidating nationalities, incomplete\n",
    "mapping_nationality = {'Singapore': 'SGP', 'Malaysia': 'MYS'}\n",
    "df_cleaned['applicant_nationality'].replace(mapping_nationality, inplace=True)"
   ]
  },
  {
   "cell_type": "markdown",
   "id": "a8a9afcc",
   "metadata": {},
   "source": [
    "## Null Value Summary"
   ]
  },
  {
   "cell_type": "code",
   "execution_count": null,
   "id": "b790704e",
   "metadata": {},
   "outputs": [],
   "source": [
    "# fill missing values with 0\n",
    "df_cleaned['quote_created_before_count'] = df_cleaned['quote_created_before_count'].fillna(0)\n",
    "df_cleaned['policy_issued_nfc_count'] = df_cleaned['policy_issued_nfc_count'].fillna(0)\n",
    "df_cleaned['scv_policy_issued_nfc_count'] = df_cleaned['scv_policy_issued_nfc_count'].fillna(0)\n",
    "df_cleaned['scv_policy_cancelled_count'] = df_cleaned['scv_policy_cancelled_count'].fillna(0)\n",
    "df_cleaned['scv_policy_inforce_count'] = df_cleaned['scv_policy_inforce_count'].fillna(0)\n",
    "df_cleaned['scv_policy_gi_count'] = df_cleaned['scv_policy_gi_count'].fillna(0)\n",
    "df_cleaned['scv_policy_li_count'] = df_cleaned['scv_policy_li_count'].fillna(0)\n",
    "df_cleaned['quotation_promo_code_value'] = df_cleaned['quotation_promo_code_value'].fillna(0)\n",
    "df_cleaned['since_first_quote'] = df_cleaned['since_first_quote'].fillna(-1)\n",
    "df_cleaned['since_latest_quote'] = df_cleaned['since_latest_quote'].fillna(-1)\n",
    "df_cleaned['since_first_policy'] = df_cleaned['since_first_policy'].fillna(-1)\n",
    "df_cleaned['since_latest_policy'] = df_cleaned['since_latest_policy'].fillna(-1)\n",
    "df_cleaned['since_first_interaction'] = df_cleaned['since_first_interaction'].fillna(-1000)\n",
    "df_cleaned['since_last_interaction'] = df_cleaned['since_last_interaction'].fillna(-1000)\n",
    "\n",
    "# date_count features\n",
    "df_cleaned['avg_days_between_quote'] = (df_cleaned['since_first_quote']/df_cleaned['quote_created_before_count']).fillna(-1)\n",
    "df_cleaned['avg_days_between_policy'] = (df_cleaned['since_first_policy']/df_cleaned['scv_policy_issued_nfc_count']).fillna(-1)\n",
    "\n",
    "# capped age\n",
    "\n",
    "df_cleaned['age_at_quote'] = np.where(df_cleaned['age_at_quote']<18,18,(np.where(df_cleaned['age_at_quote']>65,65,df_cleaned['age_at_quote'])))\n",
    "df_cleaned['age_at_quote'] = df_cleaned['age_at_quote'].fillna(0)"
   ]
  },
  {
   "cell_type": "markdown",
   "id": "f1a8963f",
   "metadata": {},
   "source": [
    "## Drop Columns"
   ]
  },
  {
   "cell_type": "code",
   "execution_count": 1,
   "id": "8ef59008",
   "metadata": {
    "collapsed": true
   },
   "outputs": [
    {
     "ename": "NameError",
     "evalue": "name 'df_cleaned' is not defined",
     "output_type": "error",
     "traceback": [
      "\u001b[0;31m---------------------------------------------------------------------------\u001b[0m",
      "\u001b[0;31mNameError\u001b[0m                                 Traceback (most recent call last)",
      "\u001b[0;32m<ipython-input-1-bfd2430944fe>\u001b[0m in \u001b[0;36m<module>\u001b[0;34m\u001b[0m\n\u001b[1;32m      1\u001b[0m \u001b[0;31m# drop non-useful columns ### CAN INVESTIGATE FURTHER\u001b[0m\u001b[0;34m\u001b[0m\u001b[0;34m\u001b[0m\u001b[0;34m\u001b[0m\u001b[0m\n\u001b[0;32m----> 2\u001b[0;31m df_cleaned = df_cleaned.drop(columns=['distribution_channel', 'event_id', \n\u001b[0m\u001b[1;32m      3\u001b[0m                                       \u001b[0;34m'applicant_marital_status'\u001b[0m\u001b[0;34m,\u001b[0m \u001b[0;34m'applicant_occupation'\u001b[0m\u001b[0;34m,\u001b[0m \u001b[0;34m'applicant_nationality'\u001b[0m\u001b[0;34m,\u001b[0m\u001b[0;34m\u001b[0m\u001b[0;34m\u001b[0m\u001b[0m\n\u001b[1;32m      4\u001b[0m                                       \u001b[0;34m'issued_before_interaction_flag'\u001b[0m\u001b[0;34m,\u001b[0m \u001b[0;34m'stp_flag'\u001b[0m\u001b[0;34m,\u001b[0m \u001b[0;34m'nric_quote'\u001b[0m\u001b[0;34m,\u001b[0m \u001b[0;34m'matched_quote'\u001b[0m\u001b[0;34m,\u001b[0m\u001b[0;34m\u001b[0m\u001b[0;34m\u001b[0m\u001b[0m\n\u001b[1;32m      5\u001b[0m                                       'nric_policy', 'matched_policy'])\n",
      "\u001b[0;31mNameError\u001b[0m: name 'df_cleaned' is not defined"
     ]
    }
   ],
   "source": [
    "# drop non-useful columns ### CAN INVESTIGATE FURTHER\n",
    "df_cleaned = df_cleaned.drop(columns=['distribution_channel', 'event_id', \n",
    "                                      'applicant_marital_status', 'applicant_occupation', 'applicant_nationality', \n",
    "                                      'issued_before_interaction_flag', 'stp_flag', 'nric_quote', 'matched_quote', \n",
    "                                      'nric_policy', 'matched_policy'])"
   ]
  },
  {
   "cell_type": "markdown",
   "id": "ec624fc0",
   "metadata": {},
   "source": [
    "# One Hot Encoding (Data Aggregation)"
   ]
  },
  {
   "cell_type": "code",
   "execution_count": null,
   "id": "5a0ced69",
   "metadata": {},
   "outputs": [],
   "source": [
    "def clip_by_prop(df, col, proportion, value = 0):\n",
    "    temp_df = df[col].value_counts()/len(df)\n",
    "    df.loc[df[col].isin(temp_df[temp_df <= value].index), col] = 'other'\n",
    "    return df\n",
    "\n",
    "#product_type_other = df_cleaned['product_type'].value_counts()/len(df_cleaned)\n",
    "#df_cleaned.loc[df_cleaned['product_type'].isin(product_type_other[product_type_other <= 5].index), 'product_type'] = 'other'\n",
    "\n",
    "CATEGORICAL_COLUMNS = ['product_type', 'device_type', 'applicant_gender', 'assisted_call_flag', 'nric_type']\n",
    "\n",
    "for i in CATEGORICAL_COLUMNS:\n",
    "    df_cleaned = clip_by_prop(df_cleaned, i, 0.05)\n",
    "\n",
    "df_cleaned['product_type_copy'] = df_cleaned['product_type']\n",
    "df_cleaned = pd.get_dummies(df_cleaned, columns = CATEGORICAL_COLUMNS)"
   ]
  },
  {
   "cell_type": "markdown",
   "id": "bd114a8b",
   "metadata": {},
   "source": [
    "# Save Processed Dataset"
   ]
  },
  {
   "cell_type": "code",
   "execution_count": null,
   "id": "70a0e789",
   "metadata": {},
   "outputs": [],
   "source": [
    "df_combined.to_csv(\"{}/Prop_Data/lead_scoring_combined.csv\".format(path))"
   ]
  },
  {
   "cell_type": "code",
   "execution_count": null,
   "id": "764ec71c",
   "metadata": {},
   "outputs": [],
   "source": []
  }
 ],
 "metadata": {
  "kernelspec": {
   "display_name": "conda_python3",
   "language": "python",
   "name": "conda_python3"
  },
  "language_info": {
   "codemirror_mode": {
    "name": "ipython",
    "version": 3
   },
   "file_extension": ".py",
   "mimetype": "text/x-python",
   "name": "python",
   "nbconvert_exporter": "python",
   "pygments_lexer": "ipython3",
   "version": "3.6.13"
  }
 },
 "nbformat": 4,
 "nbformat_minor": 5
}
